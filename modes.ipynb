{
 "cells": [
  {
   "cell_type": "code",
   "execution_count": 1,
   "id": "1b50bd9c-5d25-4cb7-b6be-d059f632ea74",
   "metadata": {
    "tags": []
   },
   "outputs": [],
   "source": [
    "import numpy as np"
   ]
  },
  {
   "cell_type": "code",
   "execution_count": 57,
   "id": "27a74b39-fa36-4bcf-b5de-12e738087c23",
   "metadata": {
    "tags": []
   },
   "outputs": [],
   "source": [
    "num_notes = 5 # Change this to the number of notes in your octave\n",
    "total_half_steps = 12  # Total half steps in an octave\n",
    "\n",
    "notes = {\n",
    "    0: \"C\",\n",
    "    1: \"C#\",\n",
    "    2: \"D\",\n",
    "    3: \"D#\",\n",
    "    4: \"E\",\n",
    "    5: \"F\",\n",
    "    6: \"F#\",\n",
    "    7: \"G\",\n",
    "    8: \"G#\",\n",
    "    9: \"A\",\n",
    "    10: \"A#\",\n",
    "    11: \"B\",\n",
    "    12: \"C2\",\n",
    "}"
   ]
  },
  {
   "cell_type": "code",
   "execution_count": 58,
   "id": "10805348-b74e-4693-b6ea-0a7b2da557dd",
   "metadata": {
    "tags": []
   },
   "outputs": [],
   "source": [
    "def map_to_notes(mode):\n",
    "    return tuple(map(lambda x : notes[x], mode))\n",
    "\n",
    "def write_file(l, file_name=\"modes.txt\"):\n",
    "    with open(file_name, \"w\") as file:\n",
    "        file.write(str(len(l)) + \"\\n\")\n",
    "        for item in l:\n",
    "            file.write(str(item) + \"\\n\")"
   ]
  },
  {
   "cell_type": "code",
   "execution_count": 59,
   "id": "5c40c624-c4e5-46df-b46b-64c7791e5126",
   "metadata": {
    "tags": []
   },
   "outputs": [
    {
     "name": "stdout",
     "output_type": "stream",
     "text": [
      "Number of unique sets of intervals for an octave with 5 notes: 13\n"
     ]
    }
   ],
   "source": [
    "def find_unique_interval_systems(num_notes, total_half_steps=12):\n",
    "    unique_interval_systems = set()\n",
    "    \n",
    "    # Generate all combinations of intervals\n",
    "    intervals = np.arange(1, total_half_steps)\n",
    "    combinations = np.array(np.meshgrid(*([intervals] * (num_notes)))).T.reshape(-1, num_notes)\n",
    "    \n",
    "    # Filter combinations that sum to the total number of half steps\n",
    "    valid_combinations = combinations[combinations.sum(axis=1) == total_half_steps]\n",
    "    \n",
    "    for combo in valid_combinations:\n",
    "        sorted_intervals = np.sort(combo)\n",
    "        interval_set = tuple(sorted_intervals.tolist())\n",
    "        unique_interval_systems.add(interval_set)\n",
    "    \n",
    "    return unique_interval_systems\n",
    "\n",
    "unique_interval_systems = list(find_unique_interval_systems(num_notes, total_half_steps))\n",
    "unique_interval_systems.sort()\n",
    "print(\"Number of unique sets of intervals for an octave with {} notes: {}\".format(num_notes, len(unique_interval_systems)))\n",
    "# print(unique_interval_systems)\n",
    "write_file(unique_interval_systems, f\"interval_systems_notes={num_notes}_octave={total_half_steps}.txt\")"
   ]
  },
  {
   "cell_type": "code",
   "execution_count": 62,
   "id": "31bb036a-8295-44bc-a562-1ca3fb3af3d3",
   "metadata": {
    "tags": []
   },
   "outputs": [
    {
     "name": "stdout",
     "output_type": "stream",
     "text": [
      "Number of unique sets of intervals for an octave with 7 notes: 462\n"
     ]
    }
   ],
   "source": [
    "def find_unique_modes(num_notes, total_half_steps=12):\n",
    "    unique_modes = set()\n",
    "    \n",
    "    # Generate all combinations of intervals\n",
    "    intervals = np.arange(1, total_half_steps)\n",
    "    combinations = np.array(np.meshgrid(*([intervals] * (num_notes)))).T.reshape(-1, num_notes)\n",
    "    \n",
    "    # Filter combinations that sum to the total number of half steps\n",
    "    valid_combinations = combinations[combinations.sum(axis=1) == total_half_steps]\n",
    "    \n",
    "    for combo in valid_combinations:\n",
    "        mode = tuple(np.concatenate(([0], np.cumsum(combo))).tolist())\n",
    "        unique_modes.add(mode)\n",
    "    \n",
    "    return unique_modes\n",
    "\n",
    "unique_modes = list(find_unique_modes(num_notes, total_half_steps))\n",
    "unique_modes.sort()\n",
    "print(\"Number of unique sets of intervals for an octave with {} notes: {}\".format(num_notes, len(unique_modes)))\n",
    "# print(unique_modes)\n",
    "unique_modes_out = list(map(lambda x : map_to_notes(x), unique_modes))\n",
    "write_file(unique_modes_out, f\"modes={num_notes}_octave={total_half_steps}.txt\")"
   ]
  },
  {
   "cell_type": "code",
   "execution_count": null,
   "id": "b43a7191-40e2-4deb-a2f1-cff941b1d91f",
   "metadata": {
    "tags": []
   },
   "outputs": [],
   "source": [
    "def get_cycled_intervals(intervals):\n",
    "    return [np.roll(intervals, i) for i in range(len(intervals))]\n",
    "\n",
    "def find_unique_mode_families(num_notes, total_half_steps=12):\n",
    "    unique_intervals = set()\n",
    "    \n",
    "    # Generate all combinations of intervals\n",
    "    intervals = np.arange(1, total_half_steps)\n",
    "    combinations = np.array(np.meshgrid(*([intervals] * (num_notes)))).T.reshape(-1, num_notes)\n",
    "    \n",
    "    # Filter combinations that sum to the total number of half steps\n",
    "    valid_combinations = combinations[combinations.sum(axis=1) == total_half_steps]\n",
    "    \n",
    "    for combo in valid_combinations:\n",
    "        cycled_intervals = get_cycled_intervals(combo)\n",
    "        cur_is_unique = True\n",
    "        for cycled_interval in cycled_intervals:\n",
    "            if tuple(cycled_interval.tolist()) in unique_intervals:\n",
    "                cur_is_unique = False\n",
    "                break\n",
    "        if cur_is_unique:\n",
    "            interval_set = tuple(combo.tolist())\n",
    "            unique_intervals.add(interval_set)\n",
    "    \n",
    "    return unique_intervals\n",
    "\n",
    "unique_mode_families = find_unique_mode_families(num_notes, total_half_steps)\n",
    "print(\"Number of unique sets of intervals for an octave with {} notes: {}\".format(num_notes, len(unique_mode_families)))\n",
    "# print(unique_mode_families)\n",
    "write_file(unique_mode_families, f\"mode_families={num_notes}_octave={total_half_steps}.txt\")"
   ]
  },
  {
   "cell_type": "code",
   "execution_count": null,
   "id": "01488a32-128b-42f0-afdb-f91f63ee5be0",
   "metadata": {},
   "outputs": [],
   "source": []
  }
 ],
 "metadata": {
  "kernelspec": {
   "display_name": "NERSC Python",
   "language": "python",
   "name": "python3"
  },
  "language_info": {
   "codemirror_mode": {
    "name": "ipython",
    "version": 3
   },
   "file_extension": ".py",
   "mimetype": "text/x-python",
   "name": "python",
   "nbconvert_exporter": "python",
   "pygments_lexer": "ipython3",
   "version": "3.9.7"
  }
 },
 "nbformat": 4,
 "nbformat_minor": 5
}
